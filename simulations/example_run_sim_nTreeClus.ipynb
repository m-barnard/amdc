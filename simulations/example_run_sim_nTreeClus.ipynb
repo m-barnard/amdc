{
 "cells": [
  {
   "cell_type": "markdown",
   "id": "bacterial-crystal",
   "metadata": {},
   "source": [
    "## Load packages and source file"
   ]
  },
  {
   "cell_type": "code",
   "execution_count": 8,
   "id": "textile-adventure",
   "metadata": {},
   "outputs": [],
   "source": [
    "import numpy as np\n",
    "import pandas as pd\n",
    "import os\n",
    "import itertools\n",
    "from itertools import repeat\n",
    "import sys\n",
    "sys.path.insert(1,  f'{os.getcwd()}/src/run_functions')\n",
    "import run_nTreeClus_one_df\n",
    "from run_nTreeClus_one_df import get_clust_res\n",
    "import multiprocessing"
   ]
  },
  {
   "cell_type": "markdown",
   "id": "further-wings",
   "metadata": {},
   "source": [
    "## Set up inputs"
   ]
  },
  {
   "cell_type": "code",
   "execution_count": 14,
   "id": "concerned-stanley",
   "metadata": {},
   "outputs": [],
   "source": [
    "path = os.getcwd()\n",
    "inputs = {'o_fold':'order_1', 'folder_name':'dur2_med', 'max': 6, 'true': 3}"
   ]
  },
  {
   "cell_type": "markdown",
   "id": "powered-adapter",
   "metadata": {},
   "source": [
    "## Run nTreeClus for the 10 simulated datasets"
   ]
  },
  {
   "cell_type": "code",
   "execution_count": 15,
   "id": "pressed-moderator",
   "metadata": {},
   "outputs": [],
   "source": [
    "pool = multiprocessing.Pool(24) #can change the size to less than 24\n",
    "res = pool.starmap(get_clust_res, zip(range(0, 10), repeat(path), repeat(inputs)))\n",
    "final_df = pd.concat(res, axis = 0)"
   ]
  },
  {
   "cell_type": "code",
   "execution_count": 25,
   "id": "fixed-mission",
   "metadata": {},
   "outputs": [
    {
     "data": {
      "text/html": [
       "<div>\n",
       "<style scoped>\n",
       "    .dataframe tbody tr th:only-of-type {\n",
       "        vertical-align: middle;\n",
       "    }\n",
       "\n",
       "    .dataframe tbody tr th {\n",
       "        vertical-align: top;\n",
       "    }\n",
       "\n",
       "    .dataframe thead th {\n",
       "        text-align: right;\n",
       "    }\n",
       "</style>\n",
       "<table border=\"1\" class=\"dataframe\">\n",
       "  <thead>\n",
       "    <tr style=\"text-align: right;\">\n",
       "      <th></th>\n",
       "      <th>best_num</th>\n",
       "      <th>best_clust</th>\n",
       "      <th>true_clust</th>\n",
       "      <th>seed</th>\n",
       "    </tr>\n",
       "  </thead>\n",
       "  <tbody>\n",
       "    <tr>\n",
       "      <th>0</th>\n",
       "      <td>2</td>\n",
       "      <td>0</td>\n",
       "      <td>3</td>\n",
       "      <td>0</td>\n",
       "    </tr>\n",
       "    <tr>\n",
       "      <th>1</th>\n",
       "      <td>2</td>\n",
       "      <td>1</td>\n",
       "      <td>2</td>\n",
       "      <td>0</td>\n",
       "    </tr>\n",
       "    <tr>\n",
       "      <th>2</th>\n",
       "      <td>2</td>\n",
       "      <td>1</td>\n",
       "      <td>2</td>\n",
       "      <td>0</td>\n",
       "    </tr>\n",
       "    <tr>\n",
       "      <th>3</th>\n",
       "      <td>2</td>\n",
       "      <td>1</td>\n",
       "      <td>3</td>\n",
       "      <td>0</td>\n",
       "    </tr>\n",
       "    <tr>\n",
       "      <th>4</th>\n",
       "      <td>2</td>\n",
       "      <td>1</td>\n",
       "      <td>2</td>\n",
       "      <td>0</td>\n",
       "    </tr>\n",
       "  </tbody>\n",
       "</table>\n",
       "</div>"
      ],
      "text/plain": [
       "   best_num  best_clust  true_clust  seed\n",
       "0         2           0           3     0\n",
       "1         2           1           2     0\n",
       "2         2           1           2     0\n",
       "3         2           1           3     0\n",
       "4         2           1           2     0"
      ]
     },
     "execution_count": 25,
     "metadata": {},
     "output_type": "execute_result"
    }
   ],
   "source": [
    "final_df.head()"
   ]
  },
  {
   "cell_type": "code",
   "execution_count": 26,
   "id": "suspended-mason",
   "metadata": {},
   "outputs": [],
   "source": [
    "final_df.to_csv(f'{path}/results/example_run_sim_ntrees_clust.csv', index=False)"
   ]
  }
 ],
 "metadata": {
  "kernelspec": {
   "display_name": "ntrees",
   "language": "python",
   "name": "ntrees"
  },
  "language_info": {
   "codemirror_mode": {
    "name": "ipython",
    "version": 3
   },
   "file_extension": ".py",
   "mimetype": "text/x-python",
   "name": "python",
   "nbconvert_exporter": "python",
   "pygments_lexer": "ipython3",
   "version": "3.8.3"
  }
 },
 "nbformat": 4,
 "nbformat_minor": 5
}
